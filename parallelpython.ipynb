{
 "cells": [
  {
   "cell_type": "code",
   "execution_count": 1,
   "metadata": {
    "collapsed": true,
    "slideshow": {
     "slide_type": "skip"
    }
   },
   "outputs": [],
   "source": [
    "# Add all necessary imports here\n",
    "import matplotlib.pyplot as plt\n",
    "%matplotlib inline\n",
    "plt.style.reload_library()\n",
    "plt.style.use(\"ggplot\")"
   ]
  },
  {
   "cell_type": "raw",
   "metadata": {
    "slideshow": {
     "slide_type": "slide"
    }
   },
   "source": [
    "<image>\n",
    "<section>\n",
    "<div>\n",
    "    <div>\n",
    "        <h1>Parallel computing in <strong>Python</strong> </h1>\n",
    "         <p>\n",
    "             <strong><span>Vamshidhar Gangu</span></strong>\n",
    "         </p>\n",
    "         <p>\n",
    "             <span> HPC specialist</span> \n",
    "         </p>\n",
    "         <p>&nbsp;</p>\n",
    "         <p>&nbsp;</p>\n",
    "</div>\n",
    "</section>\n",
    "</image>"
   ]
  },
  {
   "cell_type": "markdown",
   "metadata": {
    "slideshow": {
     "slide_type": "slide"
    }
   },
   "source": [
    "## Python GIL problem\n",
    "\n",
    "_**Factorial example using Threading**_\n",
    "\n",
    "``` python\n",
    "from datetime import datetime\n",
    "import threading \n",
    "\n",
    "def factorial(number): \n",
    "    fact = 1\n",
    "    for n in range(1, number+1): \n",
    "        fact *= n \n",
    "    return fact \n",
    "\n",
    "number = 100000 \n",
    "thread = threading.Thread(target=factorial, args=(number,)) \n",
    "startTime = datetime.now() \n",
    "thread.start() \n",
    "thread.join() \n",
    "endTime = datetime.now() \n",
    "print \"Time for execution: \", endTime - startTime\n",
    "```"
   ]
  },
  {
   "cell_type": "markdown",
   "metadata": {
    "slideshow": {
     "slide_type": "subslide"
    }
   },
   "source": [
    "\n",
    "run time:\n",
    "    * 1 Thread  : 3.4 sec\n",
    "    * 2 Threads : 6.2 sec"
   ]
  },
  {
   "cell_type": "markdown",
   "metadata": {
    "slideshow": {
     "slide_type": "fragment"
    }
   },
   "source": [
    "- You don’t get the concurrency needed with Python multithreading because of the Global interpreter lock"
   ]
  },
  {
   "cell_type": "markdown",
   "metadata": {
    "slideshow": {
     "slide_type": "slide"
    }
   },
   "source": [
    "# Python GIL\n",
    " \n",
    "* Global Interpreter Lock\n",
    "* Restrict python to run in a single thread\n",
    "* Cannot make use of data stored in shared memory"
   ]
  },
  {
   "cell_type": "markdown",
   "metadata": {
    "slideshow": {
     "slide_type": "fragment"
    }
   },
   "source": [
    "\n",
    "\n",
    "![pGIL](img/pGIL.png)"
   ]
  },
  {
   "cell_type": "markdown",
   "metadata": {
    "slideshow": {
     "slide_type": "slide"
    }
   },
   "source": [
    "## Map function\n",
    "\n",
    "```python\n",
    "\n",
    "def square(a):\n",
    "    return a*a\n",
    "```\n"
   ]
  },
  {
   "cell_type": "markdown",
   "metadata": {
    "slideshow": {
     "slide_type": "slide"
    }
   },
   "source": [
    "# Parallel frameworks \n",
    "\n",
    "\n",
    "- [concurrent.futures](https://docs.python.org/3/library/concurrent.futures.html)\n",
    "\n",
    "- [multiprocessing](https://docs.python.org/2/library/multiprocessing.html)\n",
    "\n",
    "- [joblib](https://pythonhosted.org/joblib/)\n",
    "\n",
    "- [ipyparallel](https://ipyparallel.readthedocs.io/en/latest/)\n",
    "\n",
    "- [MPI4py](http://mpi4py.readthedocs.io/en/stable/)\n",
    "\n",
    "- [Dask](https://dask.pydata.org/en/latest/)"
   ]
  },
  {
   "cell_type": "markdown",
   "metadata": {
    "slideshow": {
     "slide_type": "slide"
    }
   },
   "source": [
    " **multi-process**, not multi-thread\n",
    " \n",
    " **multi-node**, not multi-core\n",
    " \n",
    " **message-passing**, not shared memory"
   ]
  }
 ],
 "metadata": {
  "celltoolbar": "Slideshow",
  "kernelspec": {
   "display_name": "Python 3",
   "language": "python",
   "name": "python3"
  },
  "language_info": {
   "codemirror_mode": {
    "name": "ipython",
    "version": 3
   },
   "file_extension": ".py",
   "mimetype": "text/x-python",
   "name": "python",
   "nbconvert_exporter": "python",
   "pygments_lexer": "ipython3",
   "version": "3.6.3"
  }
 },
 "nbformat": 4,
 "nbformat_minor": 2
}
